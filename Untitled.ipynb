{
 "cells": [
  {
   "cell_type": "code",
   "execution_count": 1,
   "metadata": {},
   "outputs": [],
   "source": [
    "import csv\n",
    "#f = open(\"sample.csv\", \"wb\")\n",
    "#writer = csv.writer(f)\n",
    "#writer.writerows([[\"a\", 1], [\"b\", 2]])\n",
    "#f.close()\n",
    "import pandas as pd"
   ]
  },
  {
   "cell_type": "code",
   "execution_count": null,
   "metadata": {},
   "outputs": [],
   "source": []
  },
  {
   "cell_type": "code",
   "execution_count": 17,
   "metadata": {},
   "outputs": [],
   "source": [
    "col_names=['imei','model','android','battech','batcap','times','screen','battperc','apprun','cpu','battemp','batvol','batcur','network','plugged','en1','en2','en3']\n",
    "\n",
    "data0=pd.read_csv('tm.csv',names=col_names)\n",
    "data0=data0.drop(['en1','en2','en3'],axis=1)\n",
    "data1=pd.read_csv('tm1.csv',names=col_names)\n",
    "data1=data1.drop(['en1','en2','en3'],axis=1)\n",
    "data2=pd.read_csv('tm2.csv',names=col_names)\n",
    "data2=data2.drop(['en1','en2','en3'],axis=1)\n",
    "data3=pd.read_csv('tm3.csv',names=col_names)\n",
    "data3=data3.drop(['en1','en2','en3'],axis=1)"
   ]
  },
  {
   "cell_type": "code",
   "execution_count": 88,
   "metadata": {},
   "outputs": [],
   "source": [
    "data0=data0.sort_values(['times'])\n",
    "data1=data1.sort_values(['times'])\n",
    "data2=data2.sort_values(['times'])\n",
    "data3=data3.sort_values(['times'])"
   ]
  },
  {
   "cell_type": "code",
   "execution_count": 23,
   "metadata": {},
   "outputs": [
    {
     "data": {
      "text/plain": [
       "Index(['imei', 'model', 'android', 'battech', 'batcap', 'times', 'screen',\n",
       "       'battperc', 'apprun', 'cpu', 'battemp', 'batvol', 'batcur', 'network',\n",
       "       'plugged'],\n",
       "      dtype='object')"
      ]
     },
     "execution_count": 23,
     "metadata": {},
     "output_type": "execute_result"
    }
   ],
   "source": [
    "data0.columns\n",
    "data=data0.head()"
   ]
  },
  {
   "cell_type": "code",
   "execution_count": 11,
   "metadata": {},
   "outputs": [],
   "source": [
    "lin=data0.iloc[0]"
   ]
  },
  {
   "cell_type": "code",
   "execution_count": 46,
   "metadata": {},
   "outputs": [
    {
     "data": {
      "text/plain": [
       "numpy.bool_"
      ]
     },
     "execution_count": 46,
     "metadata": {},
     "output_type": "execute_result"
    }
   ],
   "source": [
    "type(data0['plugged'].unique()[1])"
   ]
  },
  {
   "cell_type": "code",
   "execution_count": 86,
   "metadata": {},
   "outputs": [],
   "source": [
    "lin=data0.iloc[0]\n",
    "maxs=lin['battperc']\n",
    "abc=0\n",
    "low=0\n",
    "total=0\n",
    "for i,r in data0.iterrows():\n",
    "        if lin['battperc']==0:\n",
    "            maxs=r['battperc']\n",
    "            total+=abc\n",
    "            abc=0\n",
    "        elif r['plugged']==True:\n",
    "            total=total+abc\n",
    "            abc=0\n",
    "            maxs=r['battperc']\n",
    "        elif r['battperc']<=lin['battperc']:\n",
    "                low=r['battperc']\n",
    "                abc=maxs-low\n",
    "        lin=r"
   ]
  },
  {
   "cell_type": "code",
   "execution_count": 87,
   "metadata": {},
   "outputs": [
    {
     "data": {
      "text/plain": [
       "213"
      ]
     },
     "execution_count": 87,
     "metadata": {},
     "output_type": "execute_result"
    }
   ],
   "source": [
    "total"
   ]
  },
  {
   "cell_type": "code",
   "execution_count": 56,
   "metadata": {},
   "outputs": [
    {
     "data": {
      "text/plain": [
       "False    263366\n",
       "True      22644\n",
       "Name: plugged, dtype: int64"
      ]
     },
     "execution_count": 56,
     "metadata": {},
     "output_type": "execute_result"
    }
   ],
   "source": [
    "data0['plugged'].value_counts()"
   ]
  },
  {
   "cell_type": "raw",
   "metadata": {},
   "source": []
  },
  {
   "cell_type": "code",
   "execution_count": 54,
   "metadata": {},
   "outputs": [
    {
     "data": {
      "text/html": [
       "<div>\n",
       "<style scoped>\n",
       "    .dataframe tbody tr th:only-of-type {\n",
       "        vertical-align: middle;\n",
       "    }\n",
       "\n",
       "    .dataframe tbody tr th {\n",
       "        vertical-align: top;\n",
       "    }\n",
       "\n",
       "    .dataframe thead th {\n",
       "        text-align: right;\n",
       "    }\n",
       "</style>\n",
       "<table border=\"1\" class=\"dataframe\">\n",
       "  <thead>\n",
       "    <tr style=\"text-align: right;\">\n",
       "      <th></th>\n",
       "      <th>imei</th>\n",
       "      <th>model</th>\n",
       "      <th>android</th>\n",
       "      <th>battech</th>\n",
       "      <th>batcap</th>\n",
       "      <th>times</th>\n",
       "      <th>screen</th>\n",
       "      <th>battperc</th>\n",
       "      <th>apprun</th>\n",
       "      <th>cpu</th>\n",
       "      <th>battemp</th>\n",
       "      <th>batvol</th>\n",
       "      <th>batcur</th>\n",
       "      <th>network</th>\n",
       "    </tr>\n",
       "    <tr>\n",
       "      <th>plugged</th>\n",
       "      <th></th>\n",
       "      <th></th>\n",
       "      <th></th>\n",
       "      <th></th>\n",
       "      <th></th>\n",
       "      <th></th>\n",
       "      <th></th>\n",
       "      <th></th>\n",
       "      <th></th>\n",
       "      <th></th>\n",
       "      <th></th>\n",
       "      <th></th>\n",
       "      <th></th>\n",
       "      <th></th>\n",
       "    </tr>\n",
       "  </thead>\n",
       "  <tbody>\n",
       "    <tr>\n",
       "      <th>False</th>\n",
       "      <td>263366</td>\n",
       "      <td>263366</td>\n",
       "      <td>263366</td>\n",
       "      <td>263366</td>\n",
       "      <td>263366</td>\n",
       "      <td>263366</td>\n",
       "      <td>263366</td>\n",
       "      <td>263366</td>\n",
       "      <td>263366</td>\n",
       "      <td>263366</td>\n",
       "      <td>263366</td>\n",
       "      <td>263366</td>\n",
       "      <td>263366</td>\n",
       "      <td>263366</td>\n",
       "    </tr>\n",
       "    <tr>\n",
       "      <th>True</th>\n",
       "      <td>22644</td>\n",
       "      <td>22637</td>\n",
       "      <td>22637</td>\n",
       "      <td>22644</td>\n",
       "      <td>22644</td>\n",
       "      <td>22644</td>\n",
       "      <td>22644</td>\n",
       "      <td>22644</td>\n",
       "      <td>22644</td>\n",
       "      <td>22644</td>\n",
       "      <td>22644</td>\n",
       "      <td>22644</td>\n",
       "      <td>22644</td>\n",
       "      <td>22644</td>\n",
       "    </tr>\n",
       "  </tbody>\n",
       "</table>\n",
       "</div>"
      ],
      "text/plain": [
       "           imei   model  android  battech  batcap   times  screen  battperc  \\\n",
       "plugged                                                                       \n",
       "False    263366  263366   263366   263366  263366  263366  263366    263366   \n",
       "True      22644   22637    22637    22644   22644   22644   22644     22644   \n",
       "\n",
       "         apprun     cpu  battemp  batvol  batcur  network  \n",
       "plugged                                                    \n",
       "False    263366  263366   263366  263366  263366   263366  \n",
       "True      22644   22644    22644   22644   22644    22644  "
      ]
     },
     "execution_count": 54,
     "metadata": {},
     "output_type": "execute_result"
    }
   ],
   "source": [
    "true_count"
   ]
  },
  {
   "cell_type": "code",
   "execution_count": null,
   "metadata": {},
   "outputs": [],
   "source": []
  },
  {
   "cell_type": "code",
   "execution_count": 91,
   "metadata": {},
   "outputs": [],
   "source": [
    "maxs=0\n",
    "abc=0\n",
    "low=0\n",
    "total=0\n",
    "for i,r in data1.iterrows():\n",
    "        if r['plugged']==True:\n",
    "            total=total+abc\n",
    "            abc=0\n",
    "            maxs=r['battperc']\n",
    "        elif lin['battperc']==0:\n",
    "            maxs=r['battperc']\n",
    "            total=total+abc\n",
    "            abc=0\n",
    "        elif r['battperc']<=lin['battperc']:\n",
    "                low=r['battperc']\n",
    "                abc=maxs-low\n",
    "        lin=r"
   ]
  },
  {
   "cell_type": "code",
   "execution_count": 92,
   "metadata": {},
   "outputs": [
    {
     "data": {
      "text/plain": [
       "213"
      ]
     },
     "execution_count": 92,
     "metadata": {},
     "output_type": "execute_result"
    }
   ],
   "source": [
    "total"
   ]
  },
  {
   "cell_type": "code",
   "execution_count": 79,
   "metadata": {},
   "outputs": [],
   "source": [
    "maxs=0\n",
    "abc=0\n",
    "low=0\n",
    "total=0\n",
    "for i,r in data2.iterrows():\n",
    "        if r['plugged']==True:\n",
    "            total=total+abc\n",
    "            abc=0\n",
    "            maxs=r['battperc']\n",
    "        elif lin['battperc']==0:\n",
    "            maxs=r['battperc']\n",
    "            total+=abc\n",
    "            abc=0\n",
    "        elif r['battperc']<=lin['battperc']:\n",
    "                low=r['battperc']\n",
    "                abc=maxs-low\n",
    "        lin=r"
   ]
  },
  {
   "cell_type": "code",
   "execution_count": 80,
   "metadata": {},
   "outputs": [
    {
     "data": {
      "text/plain": [
       "172"
      ]
     },
     "execution_count": 80,
     "metadata": {},
     "output_type": "execute_result"
    }
   ],
   "source": [
    "total"
   ]
  },
  {
   "cell_type": "code",
   "execution_count": 93,
   "metadata": {
    "scrolled": true
   },
   "outputs": [],
   "source": [
    "maxs=0\n",
    "abc=0\n",
    "low=0\n",
    "total=0\n",
    "for i,r in data3.iterrows():\n",
    "        if r['plugged']==True:\n",
    "            total=total+abc\n",
    "            abc=0\n",
    "            maxs=r['battperc']\n",
    "        elif lin['battperc']==0:\n",
    "            maxs=r['battperc']\n",
    "            total+=abc\n",
    "            abc=0\n",
    "        elif r['battperc']<=lin['battperc']:\n",
    "                low=r['battperc']\n",
    "                abc=maxs-low\n",
    "        lin=r"
   ]
  },
  {
   "cell_type": "code",
   "execution_count": 94,
   "metadata": {},
   "outputs": [
    {
     "data": {
      "text/plain": [
       "547"
      ]
     },
     "execution_count": 94,
     "metadata": {},
     "output_type": "execute_result"
    }
   ],
   "source": [
    "total"
   ]
  },
  {
   "cell_type": "code",
   "execution_count": 95,
   "metadata": {},
   "outputs": [
    {
     "data": {
      "text/html": [
       "<div>\n",
       "<style scoped>\n",
       "    .dataframe tbody tr th:only-of-type {\n",
       "        vertical-align: middle;\n",
       "    }\n",
       "\n",
       "    .dataframe tbody tr th {\n",
       "        vertical-align: top;\n",
       "    }\n",
       "\n",
       "    .dataframe thead th {\n",
       "        text-align: right;\n",
       "    }\n",
       "</style>\n",
       "<table border=\"1\" class=\"dataframe\">\n",
       "  <thead>\n",
       "    <tr style=\"text-align: right;\">\n",
       "      <th></th>\n",
       "      <th>imei</th>\n",
       "      <th>model</th>\n",
       "      <th>android</th>\n",
       "      <th>battech</th>\n",
       "      <th>batcap</th>\n",
       "      <th>times</th>\n",
       "      <th>screen</th>\n",
       "      <th>battperc</th>\n",
       "      <th>apprun</th>\n",
       "      <th>cpu</th>\n",
       "      <th>battemp</th>\n",
       "      <th>batvol</th>\n",
       "      <th>batcur</th>\n",
       "      <th>network</th>\n",
       "      <th>plugged</th>\n",
       "    </tr>\n",
       "  </thead>\n",
       "  <tbody>\n",
       "    <tr>\n",
       "      <th>0</th>\n",
       "      <td>867194030192184</td>\n",
       "      <td>Xiaomi Redmi Note 5 Pro</td>\n",
       "      <td>8.1.0</td>\n",
       "      <td>Li-poly</td>\n",
       "      <td>4000.0</td>\n",
       "      <td>1570599949472</td>\n",
       "      <td>False</td>\n",
       "      <td>31</td>\n",
       "      <td>com.zopper.batteryage</td>\n",
       "      <td>0</td>\n",
       "      <td>31.0</td>\n",
       "      <td>4043</td>\n",
       "      <td>1297</td>\n",
       "      <td>wi-fi</td>\n",
       "      <td>True</td>\n",
       "    </tr>\n",
       "    <tr>\n",
       "      <th>2</th>\n",
       "      <td>867194030192184</td>\n",
       "      <td>Xiaomi Redmi Note 5 Pro</td>\n",
       "      <td>8.1.0</td>\n",
       "      <td>Li-poly</td>\n",
       "      <td>4000.0</td>\n",
       "      <td>1570599950696</td>\n",
       "      <td>False</td>\n",
       "      <td>31</td>\n",
       "      <td>com.zopper.batteryage</td>\n",
       "      <td>0</td>\n",
       "      <td>31.0</td>\n",
       "      <td>4045</td>\n",
       "      <td>1319</td>\n",
       "      <td>wi-fi</td>\n",
       "      <td>True</td>\n",
       "    </tr>\n",
       "    <tr>\n",
       "      <th>5</th>\n",
       "      <td>867194030192184</td>\n",
       "      <td>Xiaomi Redmi Note 5 Pro</td>\n",
       "      <td>8.1.0</td>\n",
       "      <td>Li-poly</td>\n",
       "      <td>4000.0</td>\n",
       "      <td>1570599951343</td>\n",
       "      <td>False</td>\n",
       "      <td>31</td>\n",
       "      <td>com.zopper.batteryage</td>\n",
       "      <td>0</td>\n",
       "      <td>31.0</td>\n",
       "      <td>4045</td>\n",
       "      <td>1319</td>\n",
       "      <td>wi-fi</td>\n",
       "      <td>True</td>\n",
       "    </tr>\n",
       "    <tr>\n",
       "      <th>6</th>\n",
       "      <td>867194030192184</td>\n",
       "      <td>Xiaomi Redmi Note 5 Pro</td>\n",
       "      <td>8.1.0</td>\n",
       "      <td>Li-poly</td>\n",
       "      <td>4000.0</td>\n",
       "      <td>1570599953356</td>\n",
       "      <td>False</td>\n",
       "      <td>31</td>\n",
       "      <td>com.zopper.batteryage</td>\n",
       "      <td>0</td>\n",
       "      <td>31.0</td>\n",
       "      <td>4045</td>\n",
       "      <td>1286</td>\n",
       "      <td>wi-fi</td>\n",
       "      <td>True</td>\n",
       "    </tr>\n",
       "    <tr>\n",
       "      <th>1</th>\n",
       "      <td>867194030192184</td>\n",
       "      <td>Xiaomi Redmi Note 5 Pro</td>\n",
       "      <td>8.1.0</td>\n",
       "      <td>Li-poly</td>\n",
       "      <td>4000.0</td>\n",
       "      <td>1570599954486</td>\n",
       "      <td>False</td>\n",
       "      <td>31</td>\n",
       "      <td>com.zopper.batteryage</td>\n",
       "      <td>0</td>\n",
       "      <td>31.0</td>\n",
       "      <td>4045</td>\n",
       "      <td>1336</td>\n",
       "      <td>wi-fi</td>\n",
       "      <td>True</td>\n",
       "    </tr>\n",
       "  </tbody>\n",
       "</table>\n",
       "</div>"
      ],
      "text/plain": [
       "              imei                    model android  battech  batcap  \\\n",
       "0  867194030192184  Xiaomi Redmi Note 5 Pro   8.1.0  Li-poly  4000.0   \n",
       "2  867194030192184  Xiaomi Redmi Note 5 Pro   8.1.0  Li-poly  4000.0   \n",
       "5  867194030192184  Xiaomi Redmi Note 5 Pro   8.1.0  Li-poly  4000.0   \n",
       "6  867194030192184  Xiaomi Redmi Note 5 Pro   8.1.0  Li-poly  4000.0   \n",
       "1  867194030192184  Xiaomi Redmi Note 5 Pro   8.1.0  Li-poly  4000.0   \n",
       "\n",
       "           times  screen  battperc                 apprun  cpu  battemp  \\\n",
       "0  1570599949472   False        31  com.zopper.batteryage    0     31.0   \n",
       "2  1570599950696   False        31  com.zopper.batteryage    0     31.0   \n",
       "5  1570599951343   False        31  com.zopper.batteryage    0     31.0   \n",
       "6  1570599953356   False        31  com.zopper.batteryage    0     31.0   \n",
       "1  1570599954486   False        31  com.zopper.batteryage    0     31.0   \n",
       "\n",
       "   batvol  batcur network  plugged  \n",
       "0    4043    1297   wi-fi     True  \n",
       "2    4045    1319   wi-fi     True  \n",
       "5    4045    1319   wi-fi     True  \n",
       "6    4045    1286   wi-fi     True  \n",
       "1    4045    1336   wi-fi     True  "
      ]
     },
     "execution_count": 95,
     "metadata": {},
     "output_type": "execute_result"
    }
   ],
   "source": [
    "data0.head()"
   ]
  },
  {
   "cell_type": "code",
   "execution_count": 96,
   "metadata": {},
   "outputs": [
    {
     "data": {
      "text/html": [
       "<div>\n",
       "<style scoped>\n",
       "    .dataframe tbody tr th:only-of-type {\n",
       "        vertical-align: middle;\n",
       "    }\n",
       "\n",
       "    .dataframe tbody tr th {\n",
       "        vertical-align: top;\n",
       "    }\n",
       "\n",
       "    .dataframe thead th {\n",
       "        text-align: right;\n",
       "    }\n",
       "</style>\n",
       "<table border=\"1\" class=\"dataframe\">\n",
       "  <thead>\n",
       "    <tr style=\"text-align: right;\">\n",
       "      <th></th>\n",
       "      <th>imei</th>\n",
       "      <th>model</th>\n",
       "      <th>android</th>\n",
       "      <th>battech</th>\n",
       "      <th>batcap</th>\n",
       "      <th>times</th>\n",
       "      <th>screen</th>\n",
       "      <th>battperc</th>\n",
       "      <th>apprun</th>\n",
       "      <th>cpu</th>\n",
       "      <th>battemp</th>\n",
       "      <th>batvol</th>\n",
       "      <th>batcur</th>\n",
       "      <th>network</th>\n",
       "      <th>plugged</th>\n",
       "    </tr>\n",
       "  </thead>\n",
       "  <tbody>\n",
       "    <tr>\n",
       "      <th>0</th>\n",
       "      <td>867194030192184</td>\n",
       "      <td>Xiaomi Redmi Note 5 Pro</td>\n",
       "      <td>8.1.0</td>\n",
       "      <td>Li-poly</td>\n",
       "      <td>4000.0</td>\n",
       "      <td>1570599949472</td>\n",
       "      <td>False</td>\n",
       "      <td>31</td>\n",
       "      <td>com.zopper.batteryage</td>\n",
       "      <td>0</td>\n",
       "      <td>31.0</td>\n",
       "      <td>4043</td>\n",
       "      <td>1297</td>\n",
       "      <td>wi-fi</td>\n",
       "      <td>True</td>\n",
       "    </tr>\n",
       "    <tr>\n",
       "      <th>2</th>\n",
       "      <td>867194030192184</td>\n",
       "      <td>Xiaomi Redmi Note 5 Pro</td>\n",
       "      <td>8.1.0</td>\n",
       "      <td>Li-poly</td>\n",
       "      <td>4000.0</td>\n",
       "      <td>1570599950696</td>\n",
       "      <td>False</td>\n",
       "      <td>31</td>\n",
       "      <td>com.zopper.batteryage</td>\n",
       "      <td>0</td>\n",
       "      <td>31.0</td>\n",
       "      <td>4045</td>\n",
       "      <td>1319</td>\n",
       "      <td>wi-fi</td>\n",
       "      <td>True</td>\n",
       "    </tr>\n",
       "    <tr>\n",
       "      <th>5</th>\n",
       "      <td>867194030192184</td>\n",
       "      <td>Xiaomi Redmi Note 5 Pro</td>\n",
       "      <td>8.1.0</td>\n",
       "      <td>Li-poly</td>\n",
       "      <td>4000.0</td>\n",
       "      <td>1570599951343</td>\n",
       "      <td>False</td>\n",
       "      <td>31</td>\n",
       "      <td>com.zopper.batteryage</td>\n",
       "      <td>0</td>\n",
       "      <td>31.0</td>\n",
       "      <td>4045</td>\n",
       "      <td>1319</td>\n",
       "      <td>wi-fi</td>\n",
       "      <td>True</td>\n",
       "    </tr>\n",
       "    <tr>\n",
       "      <th>6</th>\n",
       "      <td>867194030192184</td>\n",
       "      <td>Xiaomi Redmi Note 5 Pro</td>\n",
       "      <td>8.1.0</td>\n",
       "      <td>Li-poly</td>\n",
       "      <td>4000.0</td>\n",
       "      <td>1570599953356</td>\n",
       "      <td>False</td>\n",
       "      <td>31</td>\n",
       "      <td>com.zopper.batteryage</td>\n",
       "      <td>0</td>\n",
       "      <td>31.0</td>\n",
       "      <td>4045</td>\n",
       "      <td>1286</td>\n",
       "      <td>wi-fi</td>\n",
       "      <td>True</td>\n",
       "    </tr>\n",
       "    <tr>\n",
       "      <th>1</th>\n",
       "      <td>867194030192184</td>\n",
       "      <td>Xiaomi Redmi Note 5 Pro</td>\n",
       "      <td>8.1.0</td>\n",
       "      <td>Li-poly</td>\n",
       "      <td>4000.0</td>\n",
       "      <td>1570599954486</td>\n",
       "      <td>False</td>\n",
       "      <td>31</td>\n",
       "      <td>com.zopper.batteryage</td>\n",
       "      <td>0</td>\n",
       "      <td>31.0</td>\n",
       "      <td>4045</td>\n",
       "      <td>1336</td>\n",
       "      <td>wi-fi</td>\n",
       "      <td>True</td>\n",
       "    </tr>\n",
       "  </tbody>\n",
       "</table>\n",
       "</div>"
      ],
      "text/plain": [
       "              imei                    model android  battech  batcap  \\\n",
       "0  867194030192184  Xiaomi Redmi Note 5 Pro   8.1.0  Li-poly  4000.0   \n",
       "2  867194030192184  Xiaomi Redmi Note 5 Pro   8.1.0  Li-poly  4000.0   \n",
       "5  867194030192184  Xiaomi Redmi Note 5 Pro   8.1.0  Li-poly  4000.0   \n",
       "6  867194030192184  Xiaomi Redmi Note 5 Pro   8.1.0  Li-poly  4000.0   \n",
       "1  867194030192184  Xiaomi Redmi Note 5 Pro   8.1.0  Li-poly  4000.0   \n",
       "\n",
       "           times  screen  battperc                 apprun  cpu  battemp  \\\n",
       "0  1570599949472   False        31  com.zopper.batteryage    0     31.0   \n",
       "2  1570599950696   False        31  com.zopper.batteryage    0     31.0   \n",
       "5  1570599951343   False        31  com.zopper.batteryage    0     31.0   \n",
       "6  1570599953356   False        31  com.zopper.batteryage    0     31.0   \n",
       "1  1570599954486   False        31  com.zopper.batteryage    0     31.0   \n",
       "\n",
       "   batvol  batcur network  plugged  \n",
       "0    4043    1297   wi-fi     True  \n",
       "2    4045    1319   wi-fi     True  \n",
       "5    4045    1319   wi-fi     True  \n",
       "6    4045    1286   wi-fi     True  \n",
       "1    4045    1336   wi-fi     True  "
      ]
     },
     "execution_count": 96,
     "metadata": {},
     "output_type": "execute_result"
    }
   ],
   "source": [
    "data1.head()"
   ]
  },
  {
   "cell_type": "code",
   "execution_count": 97,
   "metadata": {},
   "outputs": [
    {
     "data": {
      "text/html": [
       "<div>\n",
       "<style scoped>\n",
       "    .dataframe tbody tr th:only-of-type {\n",
       "        vertical-align: middle;\n",
       "    }\n",
       "\n",
       "    .dataframe tbody tr th {\n",
       "        vertical-align: top;\n",
       "    }\n",
       "\n",
       "    .dataframe thead th {\n",
       "        text-align: right;\n",
       "    }\n",
       "</style>\n",
       "<table border=\"1\" class=\"dataframe\">\n",
       "  <thead>\n",
       "    <tr style=\"text-align: right;\">\n",
       "      <th></th>\n",
       "      <th>imei</th>\n",
       "      <th>model</th>\n",
       "      <th>android</th>\n",
       "      <th>battech</th>\n",
       "      <th>batcap</th>\n",
       "      <th>times</th>\n",
       "      <th>screen</th>\n",
       "      <th>battperc</th>\n",
       "      <th>apprun</th>\n",
       "      <th>cpu</th>\n",
       "      <th>battemp</th>\n",
       "      <th>batvol</th>\n",
       "      <th>batcur</th>\n",
       "      <th>network</th>\n",
       "      <th>plugged</th>\n",
       "    </tr>\n",
       "  </thead>\n",
       "  <tbody>\n",
       "    <tr>\n",
       "      <th>0</th>\n",
       "      <td>352944080639365</td>\n",
       "      <td>samsung SM-A910F</td>\n",
       "      <td>8.0.0</td>\n",
       "      <td>Li-ion</td>\n",
       "      <td>5000.0</td>\n",
       "      <td>1570599938843</td>\n",
       "      <td>False</td>\n",
       "      <td>37</td>\n",
       "      <td>com.zopper.batteryage</td>\n",
       "      <td>0</td>\n",
       "      <td>24.7</td>\n",
       "      <td>3741</td>\n",
       "      <td>130</td>\n",
       "      <td>none</td>\n",
       "      <td>False</td>\n",
       "    </tr>\n",
       "    <tr>\n",
       "      <th>1</th>\n",
       "      <td>352944080639365</td>\n",
       "      <td>samsung SM-A910F</td>\n",
       "      <td>8.0.0</td>\n",
       "      <td>Li-ion</td>\n",
       "      <td>5000.0</td>\n",
       "      <td>1570599942514</td>\n",
       "      <td>False</td>\n",
       "      <td>37</td>\n",
       "      <td>com.zopper.batteryage</td>\n",
       "      <td>0</td>\n",
       "      <td>24.7</td>\n",
       "      <td>3763</td>\n",
       "      <td>130</td>\n",
       "      <td>none</td>\n",
       "      <td>False</td>\n",
       "    </tr>\n",
       "    <tr>\n",
       "      <th>2</th>\n",
       "      <td>352944080639365</td>\n",
       "      <td>samsung SM-A910F</td>\n",
       "      <td>8.0.0</td>\n",
       "      <td>Li-ion</td>\n",
       "      <td>5000.0</td>\n",
       "      <td>1570599942526</td>\n",
       "      <td>False</td>\n",
       "      <td>37</td>\n",
       "      <td>com.zopper.batteryage</td>\n",
       "      <td>0</td>\n",
       "      <td>24.7</td>\n",
       "      <td>3763</td>\n",
       "      <td>130</td>\n",
       "      <td>none</td>\n",
       "      <td>False</td>\n",
       "    </tr>\n",
       "    <tr>\n",
       "      <th>3</th>\n",
       "      <td>352944080639365</td>\n",
       "      <td>samsung SM-A910F</td>\n",
       "      <td>8.0.0</td>\n",
       "      <td>Li-ion</td>\n",
       "      <td>5000.0</td>\n",
       "      <td>1570599946877</td>\n",
       "      <td>False</td>\n",
       "      <td>37</td>\n",
       "      <td>com.zopper.batteryage</td>\n",
       "      <td>0</td>\n",
       "      <td>24.7</td>\n",
       "      <td>3763</td>\n",
       "      <td>130</td>\n",
       "      <td>none</td>\n",
       "      <td>False</td>\n",
       "    </tr>\n",
       "    <tr>\n",
       "      <th>4</th>\n",
       "      <td>352944080639365</td>\n",
       "      <td>samsung SM-A910F</td>\n",
       "      <td>8.0.0</td>\n",
       "      <td>Li-ion</td>\n",
       "      <td>5000.0</td>\n",
       "      <td>1570599947492</td>\n",
       "      <td>False</td>\n",
       "      <td>37</td>\n",
       "      <td>com.zopper.batteryage</td>\n",
       "      <td>0</td>\n",
       "      <td>24.7</td>\n",
       "      <td>3763</td>\n",
       "      <td>130</td>\n",
       "      <td>none</td>\n",
       "      <td>False</td>\n",
       "    </tr>\n",
       "  </tbody>\n",
       "</table>\n",
       "</div>"
      ],
      "text/plain": [
       "              imei             model android battech  batcap          times  \\\n",
       "0  352944080639365  samsung SM-A910F   8.0.0  Li-ion  5000.0  1570599938843   \n",
       "1  352944080639365  samsung SM-A910F   8.0.0  Li-ion  5000.0  1570599942514   \n",
       "2  352944080639365  samsung SM-A910F   8.0.0  Li-ion  5000.0  1570599942526   \n",
       "3  352944080639365  samsung SM-A910F   8.0.0  Li-ion  5000.0  1570599946877   \n",
       "4  352944080639365  samsung SM-A910F   8.0.0  Li-ion  5000.0  1570599947492   \n",
       "\n",
       "   screen  battperc                 apprun  cpu  battemp  batvol  batcur  \\\n",
       "0   False        37  com.zopper.batteryage    0     24.7    3741     130   \n",
       "1   False        37  com.zopper.batteryage    0     24.7    3763     130   \n",
       "2   False        37  com.zopper.batteryage    0     24.7    3763     130   \n",
       "3   False        37  com.zopper.batteryage    0     24.7    3763     130   \n",
       "4   False        37  com.zopper.batteryage    0     24.7    3763     130   \n",
       "\n",
       "  network  plugged  \n",
       "0    none    False  \n",
       "1    none    False  \n",
       "2    none    False  \n",
       "3    none    False  \n",
       "4    none    False  "
      ]
     },
     "execution_count": 97,
     "metadata": {},
     "output_type": "execute_result"
    }
   ],
   "source": [
    "data2.head()"
   ]
  },
  {
   "cell_type": "code",
   "execution_count": 98,
   "metadata": {},
   "outputs": [
    {
     "data": {
      "text/html": [
       "<div>\n",
       "<style scoped>\n",
       "    .dataframe tbody tr th:only-of-type {\n",
       "        vertical-align: middle;\n",
       "    }\n",
       "\n",
       "    .dataframe tbody tr th {\n",
       "        vertical-align: top;\n",
       "    }\n",
       "\n",
       "    .dataframe thead th {\n",
       "        text-align: right;\n",
       "    }\n",
       "</style>\n",
       "<table border=\"1\" class=\"dataframe\">\n",
       "  <thead>\n",
       "    <tr style=\"text-align: right;\">\n",
       "      <th></th>\n",
       "      <th>imei</th>\n",
       "      <th>model</th>\n",
       "      <th>android</th>\n",
       "      <th>battech</th>\n",
       "      <th>batcap</th>\n",
       "      <th>times</th>\n",
       "      <th>screen</th>\n",
       "      <th>battperc</th>\n",
       "      <th>apprun</th>\n",
       "      <th>cpu</th>\n",
       "      <th>battemp</th>\n",
       "      <th>batvol</th>\n",
       "      <th>batcur</th>\n",
       "      <th>network</th>\n",
       "      <th>plugged</th>\n",
       "    </tr>\n",
       "  </thead>\n",
       "  <tbody>\n",
       "    <tr>\n",
       "      <th>0</th>\n",
       "      <td>358057080902248</td>\n",
       "      <td>samsung SM-G950F</td>\n",
       "      <td>7.0</td>\n",
       "      <td>Li-ion</td>\n",
       "      <td>3000.0</td>\n",
       "      <td>1570599955635</td>\n",
       "      <td>False</td>\n",
       "      <td>15</td>\n",
       "      <td>com.zopper.batteryage</td>\n",
       "      <td>12</td>\n",
       "      <td>27.9</td>\n",
       "      <td>3903</td>\n",
       "      <td>990</td>\n",
       "      <td>wi-fi</td>\n",
       "      <td>True</td>\n",
       "    </tr>\n",
       "    <tr>\n",
       "      <th>1</th>\n",
       "      <td>358057080902248</td>\n",
       "      <td>samsung SM-G950F</td>\n",
       "      <td>7.0</td>\n",
       "      <td>Li-ion</td>\n",
       "      <td>3000.0</td>\n",
       "      <td>1570599956134</td>\n",
       "      <td>False</td>\n",
       "      <td>15</td>\n",
       "      <td>com.zopper.batteryage</td>\n",
       "      <td>12</td>\n",
       "      <td>27.9</td>\n",
       "      <td>3903</td>\n",
       "      <td>990</td>\n",
       "      <td>wi-fi</td>\n",
       "      <td>True</td>\n",
       "    </tr>\n",
       "    <tr>\n",
       "      <th>2</th>\n",
       "      <td>358057080902248</td>\n",
       "      <td>samsung SM-G950F</td>\n",
       "      <td>7.0</td>\n",
       "      <td>Li-ion</td>\n",
       "      <td>3000.0</td>\n",
       "      <td>1570599961401</td>\n",
       "      <td>False</td>\n",
       "      <td>15</td>\n",
       "      <td>com.zopper.batteryage</td>\n",
       "      <td>27</td>\n",
       "      <td>27.9</td>\n",
       "      <td>3903</td>\n",
       "      <td>948</td>\n",
       "      <td>wi-fi</td>\n",
       "      <td>True</td>\n",
       "    </tr>\n",
       "    <tr>\n",
       "      <th>3</th>\n",
       "      <td>358057080902248</td>\n",
       "      <td>samsung SM-G950F</td>\n",
       "      <td>7.0</td>\n",
       "      <td>Li-ion</td>\n",
       "      <td>3000.0</td>\n",
       "      <td>1570599961599</td>\n",
       "      <td>False</td>\n",
       "      <td>15</td>\n",
       "      <td>com.zopper.batteryage</td>\n",
       "      <td>11</td>\n",
       "      <td>27.9</td>\n",
       "      <td>3903</td>\n",
       "      <td>948</td>\n",
       "      <td>wi-fi</td>\n",
       "      <td>True</td>\n",
       "    </tr>\n",
       "    <tr>\n",
       "      <th>4</th>\n",
       "      <td>358057080902248</td>\n",
       "      <td>samsung SM-G950F</td>\n",
       "      <td>7.0</td>\n",
       "      <td>Li-ion</td>\n",
       "      <td>3000.0</td>\n",
       "      <td>1570599966354</td>\n",
       "      <td>False</td>\n",
       "      <td>16</td>\n",
       "      <td>com.zopper.batteryage</td>\n",
       "      <td>31</td>\n",
       "      <td>27.9</td>\n",
       "      <td>3910</td>\n",
       "      <td>1012</td>\n",
       "      <td>wi-fi</td>\n",
       "      <td>True</td>\n",
       "    </tr>\n",
       "  </tbody>\n",
       "</table>\n",
       "</div>"
      ],
      "text/plain": [
       "              imei             model  android battech  batcap          times  \\\n",
       "0  358057080902248  samsung SM-G950F      7.0  Li-ion  3000.0  1570599955635   \n",
       "1  358057080902248  samsung SM-G950F      7.0  Li-ion  3000.0  1570599956134   \n",
       "2  358057080902248  samsung SM-G950F      7.0  Li-ion  3000.0  1570599961401   \n",
       "3  358057080902248  samsung SM-G950F      7.0  Li-ion  3000.0  1570599961599   \n",
       "4  358057080902248  samsung SM-G950F      7.0  Li-ion  3000.0  1570599966354   \n",
       "\n",
       "   screen  battperc                 apprun  cpu  battemp  batvol  batcur  \\\n",
       "0   False        15  com.zopper.batteryage   12     27.9    3903     990   \n",
       "1   False        15  com.zopper.batteryage   12     27.9    3903     990   \n",
       "2   False        15  com.zopper.batteryage   27     27.9    3903     948   \n",
       "3   False        15  com.zopper.batteryage   11     27.9    3903     948   \n",
       "4   False        16  com.zopper.batteryage   31     27.9    3910    1012   \n",
       "\n",
       "  network  plugged  \n",
       "0   wi-fi     True  \n",
       "1   wi-fi     True  \n",
       "2   wi-fi     True  \n",
       "3   wi-fi     True  \n",
       "4   wi-fi     True  "
      ]
     },
     "execution_count": 98,
     "metadata": {},
     "output_type": "execute_result"
    }
   ],
   "source": [
    "data3.head()"
   ]
  },
  {
   "cell_type": "code",
   "execution_count": 99,
   "metadata": {},
   "outputs": [
    {
     "data": {
      "text/html": [
       "<div>\n",
       "<style scoped>\n",
       "    .dataframe tbody tr th:only-of-type {\n",
       "        vertical-align: middle;\n",
       "    }\n",
       "\n",
       "    .dataframe tbody tr th {\n",
       "        vertical-align: top;\n",
       "    }\n",
       "\n",
       "    .dataframe thead th {\n",
       "        text-align: right;\n",
       "    }\n",
       "</style>\n",
       "<table border=\"1\" class=\"dataframe\">\n",
       "  <thead>\n",
       "    <tr style=\"text-align: right;\">\n",
       "      <th></th>\n",
       "      <th>imei</th>\n",
       "      <th>model</th>\n",
       "      <th>android</th>\n",
       "      <th>battech</th>\n",
       "      <th>batcap</th>\n",
       "      <th>times</th>\n",
       "      <th>screen</th>\n",
       "      <th>battperc</th>\n",
       "      <th>apprun</th>\n",
       "      <th>cpu</th>\n",
       "      <th>battemp</th>\n",
       "      <th>batvol</th>\n",
       "      <th>batcur</th>\n",
       "      <th>network</th>\n",
       "      <th>plugged</th>\n",
       "    </tr>\n",
       "  </thead>\n",
       "  <tbody>\n",
       "    <tr>\n",
       "      <th>0</th>\n",
       "      <td>358057080902248</td>\n",
       "      <td>samsung SM-G950F</td>\n",
       "      <td>7.0</td>\n",
       "      <td>Li-ion</td>\n",
       "      <td>3000.0</td>\n",
       "      <td>1570599955635</td>\n",
       "      <td>False</td>\n",
       "      <td>15</td>\n",
       "      <td>com.zopper.batteryage</td>\n",
       "      <td>12</td>\n",
       "      <td>27.9</td>\n",
       "      <td>3903</td>\n",
       "      <td>990</td>\n",
       "      <td>wi-fi</td>\n",
       "      <td>True</td>\n",
       "    </tr>\n",
       "  </tbody>\n",
       "</table>\n",
       "</div>"
      ],
      "text/plain": [
       "              imei             model  android battech  batcap          times  \\\n",
       "0  358057080902248  samsung SM-G950F      7.0  Li-ion  3000.0  1570599955635   \n",
       "\n",
       "   screen  battperc                 apprun  cpu  battemp  batvol  batcur  \\\n",
       "0   False        15  com.zopper.batteryage   12     27.9    3903     990   \n",
       "\n",
       "  network  plugged  \n",
       "0   wi-fi     True  "
      ]
     },
     "execution_count": 99,
     "metadata": {},
     "output_type": "execute_result"
    }
   ],
   "source": [
    "data3.head(1)"
   ]
  },
  {
   "cell_type": "code",
   "execution_count": 100,
   "metadata": {},
   "outputs": [
    {
     "data": {
      "text/html": [
       "<div>\n",
       "<style scoped>\n",
       "    .dataframe tbody tr th:only-of-type {\n",
       "        vertical-align: middle;\n",
       "    }\n",
       "\n",
       "    .dataframe tbody tr th {\n",
       "        vertical-align: top;\n",
       "    }\n",
       "\n",
       "    .dataframe thead th {\n",
       "        text-align: right;\n",
       "    }\n",
       "</style>\n",
       "<table border=\"1\" class=\"dataframe\">\n",
       "  <thead>\n",
       "    <tr style=\"text-align: right;\">\n",
       "      <th></th>\n",
       "      <th>imei</th>\n",
       "      <th>model</th>\n",
       "      <th>android</th>\n",
       "      <th>battech</th>\n",
       "      <th>batcap</th>\n",
       "      <th>times</th>\n",
       "      <th>screen</th>\n",
       "      <th>battperc</th>\n",
       "      <th>apprun</th>\n",
       "      <th>cpu</th>\n",
       "      <th>battemp</th>\n",
       "      <th>batvol</th>\n",
       "      <th>batcur</th>\n",
       "      <th>network</th>\n",
       "      <th>plugged</th>\n",
       "    </tr>\n",
       "  </thead>\n",
       "  <tbody>\n",
       "    <tr>\n",
       "      <th>229629</th>\n",
       "      <td>358057080902248</td>\n",
       "      <td>samsung SM-G950F</td>\n",
       "      <td>7.0</td>\n",
       "      <td>Li-ion</td>\n",
       "      <td>3000.0</td>\n",
       "      <td>1571405176179</td>\n",
       "      <td>False</td>\n",
       "      <td>89</td>\n",
       "      <td>com.zopper.batteryage</td>\n",
       "      <td>25</td>\n",
       "      <td>32.6</td>\n",
       "      <td>4105</td>\n",
       "      <td>25</td>\n",
       "      <td>wi-fi</td>\n",
       "      <td>False</td>\n",
       "    </tr>\n",
       "  </tbody>\n",
       "</table>\n",
       "</div>"
      ],
      "text/plain": [
       "                   imei             model  android battech  batcap  \\\n",
       "229629  358057080902248  samsung SM-G950F      7.0  Li-ion  3000.0   \n",
       "\n",
       "                times  screen  battperc                 apprun  cpu  battemp  \\\n",
       "229629  1571405176179   False        89  com.zopper.batteryage   25     32.6   \n",
       "\n",
       "        batvol  batcur network  plugged  \n",
       "229629    4105      25   wi-fi    False  "
      ]
     },
     "execution_count": 100,
     "metadata": {},
     "output_type": "execute_result"
    }
   ],
   "source": [
    "data3.tail(1)"
   ]
  },
  {
   "cell_type": "code",
   "execution_count": 101,
   "metadata": {},
   "outputs": [
    {
     "data": {
      "text/plain": [
       "-805220544"
      ]
     },
     "execution_count": 101,
     "metadata": {},
     "output_type": "execute_result"
    }
   ],
   "source": [
    "1570599955635-1571405176179"
   ]
  },
  {
   "cell_type": "code",
   "execution_count": 102,
   "metadata": {},
   "outputs": [
    {
     "data": {
      "text/plain": [
       "13420342.4"
      ]
     },
     "execution_count": 102,
     "metadata": {},
     "output_type": "execute_result"
    }
   ],
   "source": [
    "805220544/60"
   ]
  },
  {
   "cell_type": "code",
   "execution_count": 103,
   "metadata": {},
   "outputs": [
    {
     "data": {
      "text/plain": [
       "223672.36666666667"
      ]
     },
     "execution_count": 103,
     "metadata": {},
     "output_type": "execute_result"
    }
   ],
   "source": [
    "13420342/60"
   ]
  },
  {
   "cell_type": "code",
   "execution_count": 104,
   "metadata": {},
   "outputs": [
    {
     "data": {
      "text/plain": [
       "9319.666666666666"
      ]
     },
     "execution_count": 104,
     "metadata": {},
     "output_type": "execute_result"
    }
   ],
   "source": [
    "223672/24"
   ]
  },
  {
   "cell_type": "code",
   "execution_count": null,
   "metadata": {},
   "outputs": [],
   "source": []
  }
 ],
 "metadata": {
  "kernelspec": {
   "display_name": "Python 3",
   "language": "python",
   "name": "python3"
  },
  "language_info": {
   "codemirror_mode": {
    "name": "ipython",
    "version": 3
   },
   "file_extension": ".py",
   "mimetype": "text/x-python",
   "name": "python",
   "nbconvert_exporter": "python",
   "pygments_lexer": "ipython3",
   "version": "3.6.5"
  }
 },
 "nbformat": 4,
 "nbformat_minor": 2
}
